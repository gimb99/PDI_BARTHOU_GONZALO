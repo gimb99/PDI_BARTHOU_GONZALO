{
  "nbformat": 4,
  "nbformat_minor": 0,
  "metadata": {
    "colab": {
      "provenance": [],
      "toc_visible": true,
      "authorship_tag": "ABX9TyPtC2sRx6JYHEb5VE7ZeeJF",
      "include_colab_link": true
    },
    "kernelspec": {
      "name": "python3",
      "display_name": "Python 3"
    },
    "language_info": {
      "name": "python"
    }
  },
  "cells": [
    {
      "cell_type": "markdown",
      "metadata": {
        "id": "view-in-github",
        "colab_type": "text"
      },
      "source": [
        "<a href=\"https://colab.research.google.com/github/gimb99/gbgTPDI/blob/develop/repasoPython.ipynb\" target=\"_parent\"><img src=\"https://colab.research.google.com/assets/colab-badge.svg\" alt=\"Open In Colab\"/></a>"
      ]
    },
    {
      "cell_type": "markdown",
      "source": [
        "# Repaso de Python"
      ],
      "metadata": {
        "id": "XUO4diq0T8tX"
      }
    },
    {
      "cell_type": "markdown",
      "source": [
        "Python es un lenguaje de programación interpretado, de alto nivel, que permite escribir con sintaxis concisa. Esto lo hace ideal tanto para principiantes como para programadores experimentados."
      ],
      "metadata": {
        "id": "iYZVKP6qT9j4"
      }
    },
    {
      "cell_type": "markdown",
      "source": [
        "## Caracteristicas Principales"
      ],
      "metadata": {
        "id": "o7-AQabWUfjO"
      }
    },
    {
      "cell_type": "markdown",
      "source": [
        "* Sintaxis sencilla y legible.\n",
        "* Tipado dinámico y gestión automática de memoria.\n",
        "* Amplia biblioteca estándar con módulos para diversas tareas.\n",
        "* Compatible con múltiples paradigmas de programación (orientado a objetos, funcional e imperativo).\n",
        "* Gran comunidad y soporte continuo."
      ],
      "metadata": {
        "id": "v3txtGGGUdt7"
      }
    },
    {
      "cell_type": "markdown",
      "source": [
        "## Conceptos clave"
      ],
      "metadata": {
        "id": "MWiyY_2gU0vu"
      }
    },
    {
      "cell_type": "markdown",
      "source": [
        "* Variables y estructuras de datos (listas, diccionarios, tuplas).\n",
        "* Control de flujo (condicionales, bucles).\n",
        "* Funciones y módulos.\n",
        "* Programación orientada a objetos (clases y objetos).\n",
        "* Manejo de excepciones."
      ],
      "metadata": {
        "id": "KHi4vKgGU5ug"
      }
    },
    {
      "cell_type": "markdown",
      "source": [
        "## Repaso de Código"
      ],
      "metadata": {
        "id": "ptZpxw5AVVUB"
      }
    },
    {
      "cell_type": "markdown",
      "source": [
        "### Tipos de datos"
      ],
      "metadata": {
        "id": "GkpeWARXVdei"
      }
    },
    {
      "cell_type": "markdown",
      "source": [
        "### Strings - Cadenas de texto"
      ],
      "metadata": {
        "id": "lKGKoWJNVjmM"
      }
    },
    {
      "cell_type": "markdown",
      "source": [
        "#### Creación y manipulación"
      ],
      "metadata": {
        "id": "aFUP5tLRWkab"
      }
    },
    {
      "cell_type": "code",
      "source": [
        "s = \"Hola, mundo\"\n",
        "print(s.upper())   # Convertir a mayúsculas → \"HOLA, MUNDO\"\n",
        "print(s.lower())   # Convertir a minúsculas → \"hola, mundo\"\n",
        "print(s.title())   # Formato título → \"Hola, Mundo\"\n",
        "print(s.strip())   # Eliminar espacios en blanco al inicio y final"
      ],
      "metadata": {
        "colab": {
          "base_uri": "https://localhost:8080/"
        },
        "id": "ht_dVwtNW5yq",
        "outputId": "92a23627-f3fd-4316-f4bf-cd37990de5e4"
      },
      "execution_count": 1,
      "outputs": [
        {
          "output_type": "stream",
          "name": "stdout",
          "text": [
            "HOLA, MUNDO\n",
            "hola, mundo\n",
            "Hola, Mundo\n",
            "Hola, mundo\n"
          ]
        }
      ]
    },
    {
      "cell_type": "markdown",
      "source": [
        "#### Indexación y segmentación"
      ],
      "metadata": {
        "id": "4nQF3nA4W_8E"
      }
    },
    {
      "cell_type": "code",
      "execution_count": 2,
      "metadata": {
        "colab": {
          "base_uri": "https://localhost:8080/"
        },
        "id": "KtFSs8M_TBle",
        "outputId": "cf00f083-5b01-48db-e673-ce1a6573b31a"
      },
      "outputs": [
        {
          "output_type": "stream",
          "name": "stdout",
          "text": [
            "H\n",
            "o\n",
            "Hola\n",
            "odnum ,aloH\n"
          ]
        }
      ],
      "source": [
        "print(s[0])      # Primer carácter → 'H'\n",
        "print(s[-1])     # Último carácter → 'o'\n",
        "print(s[0:4])    # Extraer una subcadena → \"Hola\"\n",
        "print(s[::-1])   # Invertir el string → \"odnum ,aloH\""
      ]
    },
    {
      "cell_type": "markdown",
      "source": [
        "#### Métodos de búsqueda"
      ],
      "metadata": {
        "id": "jK8g_nZ_XEmP"
      }
    },
    {
      "cell_type": "code",
      "source": [
        "print(s.find(\"mundo\"))   # Posición de \"mundo\" → 6\n",
        "print(s.count(\"o\"))      # Ocurrencias de 'o' → 2\n",
        "print(\"Hola\" in s)       # Verificar si está en `s` → True"
      ],
      "metadata": {
        "colab": {
          "base_uri": "https://localhost:8080/"
        },
        "id": "SHDe2YQ0XEMY",
        "outputId": "b0f8bd3a-9d08-4a44-a3d8-73a455d4289b"
      },
      "execution_count": 3,
      "outputs": [
        {
          "output_type": "stream",
          "name": "stdout",
          "text": [
            "6\n",
            "2\n",
            "True\n"
          ]
        }
      ]
    },
    {
      "cell_type": "markdown",
      "source": [
        "#### Reemplazo y unión"
      ],
      "metadata": {
        "id": "l23aiFLkXK64"
      }
    },
    {
      "cell_type": "code",
      "source": [
        "print(s.replace(\"Hola\", \"Adiós\"))  # Cambiar \"Hola\" por \"Adiós\"\n",
        "print(\"-\".join([\"Milanesa\", \"con\", \"puré\"]))  # Unir elementos\n",
        "print(s.split(\",\"))  # Dividir string en lista → [\"Hola\", \" mundo\"]"
      ],
      "metadata": {
        "colab": {
          "base_uri": "https://localhost:8080/"
        },
        "id": "gN79gGHtXKND",
        "outputId": "f3889f2a-6399-4c44-e318-cebae9520093"
      },
      "execution_count": 6,
      "outputs": [
        {
          "output_type": "stream",
          "name": "stdout",
          "text": [
            "Adiós, mundo\n",
            "Milanesa-con-puré\n",
            "['Hola', ' mundo']\n"
          ]
        }
      ]
    },
    {
      "cell_type": "markdown",
      "source": [
        "#### Verificación de contenido"
      ],
      "metadata": {
        "id": "7-8tM7U_XgBQ"
      }
    },
    {
      "cell_type": "code",
      "source": [
        "print(s.isalpha())  # ¿Solo contiene letras? → False (por espacio y coma)\n",
        "print(\"123\".isdigit())  # ¿Solo números? → True\n",
        "print(\"py\".startswith(\"p\"))  # ¿Comienza con 'p'? → True\n",
        "print(\"py\".endswith(\"y\"))  # ¿Termina con 'y'? → True"
      ],
      "metadata": {
        "colab": {
          "base_uri": "https://localhost:8080/"
        },
        "id": "mfcRurtDXfly",
        "outputId": "fcf0db7b-9555-4a98-8f09-154da5d9121e"
      },
      "execution_count": 5,
      "outputs": [
        {
          "output_type": "stream",
          "name": "stdout",
          "text": [
            "False\n",
            "True\n",
            "True\n",
            "True\n"
          ]
        }
      ]
    },
    {
      "cell_type": "markdown",
      "source": [
        "## Tipos de operaciones posibles"
      ],
      "metadata": {
        "id": "E-Uh7BlMV1hV"
      }
    },
    {
      "cell_type": "markdown",
      "source": [
        "* Operadores aritméticos: `+`, `-`, `*`, `/`, `//` (división entera), `%` (módulo), `**` (potencia)\n",
        "* Operadores de comparación: `==` (igual), `!=` (no igual), `>`, `<`, `>=`, `<=`\n",
        "* Operadores lógicos: `and`, `or`, `not`\n",
        "* Operadores de asignación: `=`, `+=`, `-=`, `*=`, `/=`, `%=`, `**=`, `//=`, `&=`, `|=`, `^=`, `>>=`, `<<=`"
      ],
      "metadata": {
        "id": "kj275tfIV6Tj"
      }
    },
    {
      "cell_type": "markdown",
      "source": [
        "## Casting de Variables"
      ],
      "metadata": {
        "id": "BK5a_YUKWBoD"
      }
    },
    {
      "cell_type": "markdown",
      "source": [
        "Conversión de tipos (Casting)\n",
        "* Necesario para operar con variables de diferentes tipos, sobretodo si estos requieren parámetros particulares como uso de decimales, o que tengan un dato de tipo lógico\n",
        "* Funciones de conversión:\n",
        "    * `int()`: Convierte a entero.\n",
        "    * `float()`: Convierte a punto flotante.\n",
        "    * `str()`: Convierte a cadena.\n",
        "    * `bool()`: Convierte a booleano."
      ],
      "metadata": {
        "id": "19qPG_qsWDWY"
      }
    },
    {
      "cell_type": "markdown",
      "source": [
        "### Estructura de Datos"
      ],
      "metadata": {
        "id": "faYu64_vX2Og"
      }
    },
    {
      "cell_type": "markdown",
      "source": [
        "#### Listas"
      ],
      "metadata": {
        "id": "cGgei3TbX6uZ"
      }
    },
    {
      "cell_type": "code",
      "source": [
        "lista = [1, 2, 3, 4, 5]\n",
        "print(lista[0])   # Acceder al primer elemento → 1\n",
        "print(lista[-1])  # Acceder al último elemento → 5\n",
        "lista.append(6)   # Agregar elemento → [1, 2, 3, 4, 5, 6]\n",
        "lista.pop()       # Eliminar último elemento → [1, 2, 3, 4, 5]\n",
        "print(len(lista)) # Cantidad de elementos → 5"
      ],
      "metadata": {
        "colab": {
          "base_uri": "https://localhost:8080/"
        },
        "id": "z9py_xHoX5EI",
        "outputId": "be45e7ae-6c99-46bd-b11a-5ee33abc08b8"
      },
      "execution_count": 7,
      "outputs": [
        {
          "output_type": "stream",
          "name": "stdout",
          "text": [
            "1\n",
            "5\n",
            "5\n"
          ]
        }
      ]
    },
    {
      "cell_type": "markdown",
      "source": [
        "#### Tuplas"
      ],
      "metadata": {
        "id": "eRaA229rX8_a"
      }
    },
    {
      "cell_type": "code",
      "source": [
        "tupla = (1, 2, 3)\n",
        "print(tupla[0])   # Acceder al primer elemento → 1\n",
        "# tupla[0] = 10  # ❌ Error: Las tuplas son inmutables\n",
        "print(len(tupla)) # Tamaño de la tupla → 3"
      ],
      "metadata": {
        "colab": {
          "base_uri": "https://localhost:8080/"
        },
        "id": "PHmcJyN9X-oX",
        "outputId": "6c0e554e-23e4-4cad-fe25-ec94ba3cf55f"
      },
      "execution_count": 8,
      "outputs": [
        {
          "output_type": "stream",
          "name": "stdout",
          "text": [
            "1\n",
            "3\n"
          ]
        }
      ]
    },
    {
      "cell_type": "markdown",
      "source": [
        "#### Conjuntos"
      ],
      "metadata": {
        "id": "6BI27_T2YCpm"
      }
    },
    {
      "cell_type": "code",
      "source": [
        "conjunto = {1, 2, 3, 4}\n",
        "conjunto.add(5)   # Agregar elemento → {1, 2, 3, 4, 5}\n",
        "conjunto.remove(3) # Eliminar elemento → {1, 2, 4, 5}\n",
        "print(2 in conjunto) # Verificar si contiene un elemento → True"
      ],
      "metadata": {
        "colab": {
          "base_uri": "https://localhost:8080/"
        },
        "id": "lnrprdXuYCSR",
        "outputId": "1aedbc4c-c1a3-4479-ee9f-83512db62b69"
      },
      "execution_count": 9,
      "outputs": [
        {
          "output_type": "stream",
          "name": "stdout",
          "text": [
            "True\n"
          ]
        }
      ]
    },
    {
      "cell_type": "markdown",
      "source": [
        "#### Diccionarios"
      ],
      "metadata": {
        "id": "9WzjChaCYEt6"
      }
    },
    {
      "cell_type": "code",
      "source": [
        "diccionario = {\"nombre\": \"Python\", \"tipo\": \"Lenguaje\"}\n",
        "print(diccionario[\"nombre\"])  # Acceder a valor → \"Python\"\n",
        "diccionario[\"version\"] = 3.10  # Agregar clave → {'nombre': 'Python', 'tipo': 'Lenguaje', 'version': 3.10}\n",
        "del diccionario[\"tipo\"]  # Eliminar clave → {'nombre': 'Python', 'version': 3.10}\n",
        "print(diccionario.keys())  # Obtener claves → dict_keys(['nombre', 'version'])\n",
        "print(diccionario.values()) # Obtener valores → dict_values(['Python', 3.10])"
      ],
      "metadata": {
        "colab": {
          "base_uri": "https://localhost:8080/"
        },
        "id": "ZvdiKhbbYI-f",
        "outputId": "6211ab4e-6827-4439-f9ac-40488c59f034"
      },
      "execution_count": 10,
      "outputs": [
        {
          "output_type": "stream",
          "name": "stdout",
          "text": [
            "Python\n",
            "dict_keys(['nombre', 'version'])\n",
            "dict_values(['Python', 3.1])\n"
          ]
        }
      ]
    },
    {
      "cell_type": "markdown",
      "source": [
        "#### Pilas"
      ],
      "metadata": {
        "id": "yasBIXf5YKQB"
      }
    },
    {
      "cell_type": "code",
      "source": [
        "pila = []\n",
        "pila.append(1)  # Apilar (Push) → [1]\n",
        "pila.append(2)  # Apilar → [1, 2]\n",
        "print(pila.pop())  # Desapilar (Pop) → 2, Pila queda → [1]"
      ],
      "metadata": {
        "colab": {
          "base_uri": "https://localhost:8080/"
        },
        "id": "klHdFdayYNiO",
        "outputId": "a647df7c-abf8-4d5f-b048-861256126746"
      },
      "execution_count": 11,
      "outputs": [
        {
          "output_type": "stream",
          "name": "stdout",
          "text": [
            "2\n"
          ]
        }
      ]
    },
    {
      "cell_type": "markdown",
      "source": [
        "#### Colas"
      ],
      "metadata": {
        "id": "CfXprkJyYOOO"
      }
    },
    {
      "cell_type": "code",
      "source": [
        "cola = []\n",
        "cola.append(\"A\")  # Encolar (Push) → ['A']\n",
        "cola.append(\"B\")  # Encolar → ['A', 'B']\n",
        "print(cola.pop(0))  # Desencolar (Pop) → 'A', Cola queda → ['B']"
      ],
      "metadata": {
        "colab": {
          "base_uri": "https://localhost:8080/"
        },
        "id": "NLIBD2iBYRE3",
        "outputId": "769a7f6d-b629-4279-e900-85be60a0d89a"
      },
      "execution_count": 12,
      "outputs": [
        {
          "output_type": "stream",
          "name": "stdout",
          "text": [
            "A\n"
          ]
        }
      ]
    }
  ]
}
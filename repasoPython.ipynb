{
  "nbformat": 4,
  "nbformat_minor": 0,
  "metadata": {
    "colab": {
      "provenance": [],
      "toc_visible": true,
      "authorship_tag": "ABX9TyPtC2sRx6JYHEb5VE7ZeeJF",
      "include_colab_link": true
    },
    "kernelspec": {
      "name": "python3",
      "display_name": "Python 3"
    },
    "language_info": {
      "name": "python"
    }
  },
  "cells": [
    {
      "cell_type": "markdown",
      "metadata": {
        "id": "view-in-github",
        "colab_type": "text"
      },
      "source": [
        "<a href=\"https://colab.research.google.com/github/gimb99/gbgTPDI/blob/develop/repasoPython.ipynb\" target=\"_parent\"><img src=\"https://colab.research.google.com/assets/colab-badge.svg\" alt=\"Open In Colab\"/></a>"
      ]
    },
    {
      "cell_type": "markdown",
      "source": [
        "# Repaso de Python"
      ],
      "metadata": {
        "id": "XUO4diq0T8tX"
      }
    },
    {
      "cell_type": "markdown",
      "source": [
        "Python es un lenguaje de programación interpretado, de alto nivel, que permite escribir con sintaxis concisa. Esto lo hace ideal tanto para principiantes como para programadores experimentados."
      ],
      "metadata": {
        "id": "iYZVKP6qT9j4"
      }
    },
    {
      "cell_type": "markdown",
      "source": [
        "## Caracteristicas Principales"
      ],
      "metadata": {
        "id": "o7-AQabWUfjO"
      }
    },
    {
      "cell_type": "markdown",
      "source": [
        "* Sintaxis sencilla y legible.\n",
        "* Tipado dinámico y gestión automática de memoria.\n",
        "* Amplia biblioteca estándar con módulos para diversas tareas.\n",
        "* Compatible con múltiples paradigmas de programación (orientado a objetos, funcional e imperativo).\n",
        "* Gran comunidad y soporte continuo."
      ],
      "metadata": {
        "id": "v3txtGGGUdt7"
      }
    },
    {
      "cell_type": "markdown",
      "source": [
        "## Conceptos clave"
      ],
      "metadata": {
        "id": "MWiyY_2gU0vu"
      }
    },
    {
      "cell_type": "markdown",
      "source": [
        "* Variables y estructuras de datos (listas, diccionarios, tuplas).\n",
        "* Control de flujo (condicionales, bucles).\n",
        "* Funciones y módulos.\n",
        "* Programación orientada a objetos (clases y objetos).\n",
        "* Manejo de excepciones."
      ],
      "metadata": {
        "id": "KHi4vKgGU5ug"
      }
    },
    {
      "cell_type": "markdown",
      "source": [
        "## Repaso de Código"
      ],
      "metadata": {
        "id": "ptZpxw5AVVUB"
      }
    },
    {
      "cell_type": "markdown",
      "source": [
        "### Tipos de datos"
      ],
      "metadata": {
        "id": "GkpeWARXVdei"
      }
    },
    {
      "cell_type": "markdown",
      "source": [
        "### Strings - Cadenas de texto"
      ],
      "metadata": {
        "id": "lKGKoWJNVjmM"
      }
    },
    {
      "cell_type": "markdown",
      "source": [
        "#### Creación y manipulación"
      ],
      "metadata": {
        "id": "aFUP5tLRWkab"
      }
    },
    {
      "cell_type": "code",
      "source": [
        "s = \"Hola, mundo\"\n",
        "print(s.upper())   # Convertir a mayúsculas → \"HOLA, MUNDO\"\n",
        "print(s.lower())   # Convertir a minúsculas → \"hola, mundo\"\n",
        "print(s.title())   # Formato título → \"Hola, Mundo\"\n",
        "print(s.strip())   # Eliminar espacios en blanco al inicio y final"
      ],
      "metadata": {
        "id": "ht_dVwtNW5yq"
      },
      "execution_count": null,
      "outputs": []
    },
    {
      "cell_type": "markdown",
      "source": [
        "#### Indexación y segmentación"
      ],
      "metadata": {
        "id": "4nQF3nA4W_8E"
      }
    },
    {
      "cell_type": "code",
      "execution_count": null,
      "metadata": {
        "id": "KtFSs8M_TBle"
      },
      "outputs": [],
      "source": [
        "print(s[0])      # Primer carácter → 'H'\n",
        "print(s[-1])     # Último carácter → 'o'\n",
        "print(s[0:4])    # Extraer una subcadena → \"Hola\"\n",
        "print(s[::-1])   # Invertir el string → \"odnum ,aloH\""
      ]
    },
    {
      "cell_type": "markdown",
      "source": [
        "#### Métodos de búsqueda"
      ],
      "metadata": {
        "id": "jK8g_nZ_XEmP"
      }
    },
    {
      "cell_type": "code",
      "source": [
        "print(s.find(\"mundo\"))   # Posición de \"mundo\" → 6\n",
        "print(s.count(\"o\"))      # Ocurrencias de 'o' → 2\n",
        "print(\"Hola\" in s)       # Verificar si está en `s` → True"
      ],
      "metadata": {
        "id": "SHDe2YQ0XEMY"
      },
      "execution_count": null,
      "outputs": []
    },
    {
      "cell_type": "markdown",
      "source": [
        "#### Reemplazo y unión"
      ],
      "metadata": {
        "id": "l23aiFLkXK64"
      }
    },
    {
      "cell_type": "code",
      "source": [
        "print(s.replace(\"Hola\", \"Adiós\"))  # Cambiar \"Hola\" por \"Adiós\"\n",
        "print(\"-\".join([\"Milanesa\", \"con\", \"puré\"]))  # Unir elementos\n",
        "print(s.split(\",\"))  # Dividir string en lista → [\"Hola\", \" mundo\"]"
      ],
      "metadata": {
        "id": "gN79gGHtXKND"
      },
      "execution_count": null,
      "outputs": []
    },
    {
      "cell_type": "markdown",
      "source": [
        "#### Verificación de contenido"
      ],
      "metadata": {
        "id": "7-8tM7U_XgBQ"
      }
    },
    {
      "cell_type": "code",
      "source": [
        "print(s.isalpha())  # ¿Solo contiene letras? → False (por espacio y coma)\n",
        "print(\"123\".isdigit())  # ¿Solo números? → True\n",
        "print(\"py\".startswith(\"p\"))  # ¿Comienza con 'p'? → True\n",
        "print(\"py\".endswith(\"y\"))  # ¿Termina con 'y'? → True"
      ],
      "metadata": {
        "id": "mfcRurtDXfly"
      },
      "execution_count": null,
      "outputs": []
    },
    {
      "cell_type": "markdown",
      "source": [
        "## Tipos de operaciones posibles"
      ],
      "metadata": {
        "id": "E-Uh7BlMV1hV"
      }
    },
    {
      "cell_type": "markdown",
      "source": [
        "* Operadores aritméticos: `+`, `-`, `*`, `/`, `//` (división entera), `%` (módulo), `**` (potencia)\n",
        "* Operadores de comparación: `==` (igual), `!=` (no igual), `>`, `<`, `>=`, `<=`\n",
        "* Operadores lógicos: `and`, `or`, `not`\n",
        "* Operadores de asignación: `=`, `+=`, `-=`, `*=`, `/=`, `%=`, `**=`, `//=`, `&=`, `|=`, `^=`, `>>=`, `<<=`"
      ],
      "metadata": {
        "id": "kj275tfIV6Tj"
      }
    },
    {
      "cell_type": "markdown",
      "source": [
        "## Casting de Variables"
      ],
      "metadata": {
        "id": "BK5a_YUKWBoD"
      }
    },
    {
      "cell_type": "markdown",
      "source": [
        "Conversión de tipos (Casting)\n",
        "* Necesario para operar con variables de diferentes tipos, sobretodo si estos requieren parámetros particulares como uso de decimales, o que tengan un dato de tipo lógico\n",
        "* Funciones de conversión:\n",
        "    * `int()`: Convierte a entero.\n",
        "    * `float()`: Convierte a punto flotante.\n",
        "    * `str()`: Convierte a cadena.\n",
        "    * `bool()`: Convierte a booleano."
      ],
      "metadata": {
        "id": "19qPG_qsWDWY"
      }
    },
    {
      "cell_type": "markdown",
      "source": [
        "### Estructura de Datos"
      ],
      "metadata": {
        "id": "faYu64_vX2Og"
      }
    },
    {
      "cell_type": "markdown",
      "source": [
        "#### Listas"
      ],
      "metadata": {
        "id": "cGgei3TbX6uZ"
      }
    },
    {
      "cell_type": "code",
      "source": [
        "lista = [1, 2, 3, 4, 5]\n",
        "print(lista[0])   # Acceder al primer elemento → 1\n",
        "print(lista[-1])  # Acceder al último elemento → 5\n",
        "lista.append(6)   # Agregar elemento → [1, 2, 3, 4, 5, 6]\n",
        "lista.pop()       # Eliminar último elemento → [1, 2, 3, 4, 5]\n",
        "print(len(lista)) # Cantidad de elementos → 5"
      ],
      "metadata": {
        "id": "z9py_xHoX5EI"
      },
      "execution_count": null,
      "outputs": []
    },
    {
      "cell_type": "markdown",
      "source": [
        "#### Tuplas"
      ],
      "metadata": {
        "id": "eRaA229rX8_a"
      }
    },
    {
      "cell_type": "code",
      "source": [
        "tupla = (1, 2, 3)\n",
        "print(tupla[0])   # Acceder al primer elemento → 1\n",
        "# tupla[0] = 10  # ❌ Error: Las tuplas son inmutables\n",
        "print(len(tupla)) # Tamaño de la tupla → 3"
      ],
      "metadata": {
        "id": "PHmcJyN9X-oX"
      },
      "execution_count": null,
      "outputs": []
    },
    {
      "cell_type": "markdown",
      "source": [
        "#### Conjuntos"
      ],
      "metadata": {
        "id": "6BI27_T2YCpm"
      }
    },
    {
      "cell_type": "code",
      "source": [
        "conjunto = {1, 2, 3, 4}\n",
        "conjunto.add(5)   # Agregar elemento → {1, 2, 3, 4, 5}\n",
        "conjunto.remove(3) # Eliminar elemento → {1, 2, 4, 5}\n",
        "print(2 in conjunto) # Verificar si contiene un elemento → True"
      ],
      "metadata": {
        "id": "lnrprdXuYCSR"
      },
      "execution_count": null,
      "outputs": []
    },
    {
      "cell_type": "markdown",
      "source": [
        "#### Diccionarios"
      ],
      "metadata": {
        "id": "9WzjChaCYEt6"
      }
    },
    {
      "cell_type": "code",
      "source": [
        "diccionario = {\"nombre\": \"Python\", \"tipo\": \"Lenguaje\"}\n",
        "print(diccionario[\"nombre\"])  # Acceder a valor → \"Python\"\n",
        "diccionario[\"version\"] = 3.10  # Agregar clave → {'nombre': 'Python', 'tipo': 'Lenguaje', 'version': 3.10}\n",
        "del diccionario[\"tipo\"]  # Eliminar clave → {'nombre': 'Python', 'version': 3.10}\n",
        "print(diccionario.keys())  # Obtener claves → dict_keys(['nombre', 'version'])\n",
        "print(diccionario.values()) # Obtener valores → dict_values(['Python', 3.10])"
      ],
      "metadata": {
        "id": "ZvdiKhbbYI-f"
      },
      "execution_count": null,
      "outputs": []
    },
    {
      "cell_type": "markdown",
      "source": [
        "#### Pilas"
      ],
      "metadata": {
        "id": "yasBIXf5YKQB"
      }
    },
    {
      "cell_type": "code",
      "source": [
        "pila = []\n",
        "pila.append(1)  # Apilar (Push) → [1]\n",
        "pila.append(2)  # Apilar → [1, 2]\n",
        "print(pila.pop())  # Desapilar (Pop) → 2, Pila queda → [1]"
      ],
      "metadata": {
        "id": "klHdFdayYNiO"
      },
      "execution_count": null,
      "outputs": []
    },
    {
      "cell_type": "markdown",
      "source": [
        "#### Colas"
      ],
      "metadata": {
        "id": "CfXprkJyYOOO"
      }
    },
    {
      "cell_type": "code",
      "source": [
        "cola = []\n",
        "cola.append(\"A\")  # Encolar (Push) → ['A']\n",
        "cola.append(\"B\")  # Encolar → ['A', 'B']\n",
        "print(cola.pop(0))  # Desencolar (Pop) → 'A', Cola queda → ['B']"
      ],
      "metadata": {
        "id": "NLIBD2iBYRE3"
      },
      "execution_count": null,
      "outputs": []
    }
  ]
}
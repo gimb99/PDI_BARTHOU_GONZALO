{
  "nbformat": 4,
  "nbformat_minor": 0,
  "metadata": {
    "colab": {
      "provenance": [],
      "authorship_tag": "ABX9TyO463r5syn2YvduFSbp3qmH",
      "include_colab_link": true
    },
    "kernelspec": {
      "name": "python3",
      "display_name": "Python 3"
    },
    "language_info": {
      "name": "python"
    }
  },
  "cells": [
    {
      "cell_type": "markdown",
      "metadata": {
        "id": "view-in-github",
        "colab_type": "text"
      },
      "source": [
        "<a href=\"https://colab.research.google.com/github/gimb99/gbgTPDI/blob/develop/ejercicioIntegrador.ipynb\" target=\"_parent\"><img src=\"https://colab.research.google.com/assets/colab-badge.svg\" alt=\"Open In Colab\"/></a>"
      ]
    },
    {
      "cell_type": "markdown",
      "source": [
        "# Ejercicio Integrador"
      ],
      "metadata": {
        "id": "D4Y_dUKGjgna"
      }
    },
    {
      "cell_type": "markdown",
      "source": [
        "## Import de librerias y dependencias"
      ],
      "metadata": {
        "id": "Tj2-XHJgoej3"
      }
    },
    {
      "cell_type": "code",
      "source": [
        "import cv2\n",
        "import matplotlib.pyplot as plt\n",
        "import urllib.request\n",
        "import numpy as np"
      ],
      "metadata": {
        "id": "9fq0_RETojXy"
      },
      "execution_count": null,
      "outputs": []
    },
    {
      "cell_type": "markdown",
      "source": [
        "## Ejercicio 1: Espacios de Color\n",
        "\n",
        "Usando una imagen a color de su elección:\n",
        "\n",
        "a) Cargar la imagen con OpenCV y mostrar los canales BGR por separado.\n",
        "\n",
        "b) Identificar cuál de los tres canales tiene mayor información basándose en los valores promedio.\n",
        "\n",
        "c) Convertir la imagen de BGR a RGB y explicar por qué los colores se ven diferentes antes y después de la conversión."
      ],
      "metadata": {
        "id": "jPDDn2XiodNa"
      }
    },
    {
      "cell_type": "markdown",
      "source": [
        "### Carga de imagen"
      ],
      "metadata": {
        "id": "mr6kwzc4onlk"
      }
    },
    {
      "cell_type": "code",
      "execution_count": null,
      "metadata": {
        "id": "vFvPLkT3f-OW"
      },
      "outputs": [],
      "source": []
    },
    {
      "cell_type": "markdown",
      "source": [
        "### Valores BGR"
      ],
      "metadata": {
        "id": "fuc9Z7TzomG6"
      }
    },
    {
      "cell_type": "code",
      "source": [],
      "metadata": {
        "id": "Xz-zZ8_iowgQ"
      },
      "execution_count": null,
      "outputs": []
    },
    {
      "cell_type": "markdown",
      "source": [
        "## Ejercicio 2: Muestreo y Cuantización"
      ],
      "metadata": {
        "id": "dPAMG8kNo-iO"
      }
    }
  ]
}